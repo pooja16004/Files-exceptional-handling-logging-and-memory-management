{
  "nbformat": 4,
  "nbformat_minor": 0,
  "metadata": {
    "colab": {
      "provenance": []
    },
    "kernelspec": {
      "name": "python3",
      "display_name": "Python 3"
    },
    "language_info": {
      "name": "python"
    }
  },
  "cells": [
    {
      "cell_type": "markdown",
      "source": [
        "# Files, exceptional handling, logging and memory management Questions"
      ],
      "metadata": {
        "id": "SEEok-of178D"
      }
    },
    {
      "cell_type": "markdown",
      "source": [
        "1. What is the difference between interpreted and compiled languages?\n",
        "- Compiled Language: The code is translated into machine code before execution, using a compiler (e.g., C, C++).\n",
        "  - Faster execution\n",
        "  -  More optimization possible\n",
        "  - Needs recompilation for changes\n",
        "\n",
        "- Interpreted Language: The code is translated at runtime using an interpreter (e.g., Python, JavaScript).\n",
        "  - Easier to test and debug\n",
        "  - Platform-independent\n",
        "  - Slower than compiled code"
      ],
      "metadata": {
        "id": "fZu-vFwX1740"
      }
    },
    {
      "cell_type": "markdown",
      "source": [
        "2. What is exception handling in Python?\n",
        "- Exception handling in Python is used to catch and handle errors during program execution so that the program doesn’t crash unexpectedly.\n",
        " - Example:-\n",
        " try:\n",
        "      x = 10 / 0\n",
        "  except ZeroDivisionError:\n",
        "      print(\"You can't divide by zero!\")\n"
      ],
      "metadata": {
        "id": "lYln0msD171y"
      }
    },
    {
      "cell_type": "markdown",
      "source": [
        "3. What is the purpose of the finally block in exception handling?\n",
        "- Whether an exception was raised or not. It’s perfect for cleanup actions like closing files or releasing resources.\n",
        "\n",
        "- Example :-  \n",
        "        try:\n",
        "            f = open(\"file.txt\")\n",
        "        # some file operations\n",
        "        except FileNotFoundError:\n",
        "            print(\"File not found.\")\n",
        "        finally:\n",
        "        f.close()\n"
      ],
      "metadata": {
        "id": "_lz6Ytvg17yy"
      }
    },
    {
      "cell_type": "markdown",
      "source": [
        "4. What is logging in Python?\n",
        "- Logging is the process of recording information about your program's execution (errors, warnings, debug info, etc.).\n",
        "  - import logging\n",
        "\n",
        "      logging.basicConfig(level=logging.INFO)\n",
        "      logging.info(\"This is an info message.\")\n"
      ],
      "metadata": {
        "id": "raMA7BSZ17vr"
      }
    },
    {
      "cell_type": "markdown",
      "source": [
        "5. What is the significance of the __del__ method in Python?\n",
        "- __del__ is a destructor method, called when an object is about to be destroyed (i.e., when it’s garbage collected).\n",
        "Use it carefully — it's good for cleanup, but exact timing of when it's called can be unpredictable in complex programs.\n",
        "- class Example:\n",
        "      def __del__(self):\n",
        "          print(\"Object is being deleted\")\n",
        "\n",
        "  obj = Example()\n",
        "  del obj  # This triggers __del__\n"
      ],
      "metadata": {
        "id": "h-AhuTdq17sy"
      }
    },
    {
      "cell_type": "markdown",
      "source": [
        "6. What is the difference between import and from ... import in Python?\n",
        "- Both are used to bring in code from external modules, but there's a difference in how they're used:\n",
        " - Import :-  Brings in the whole module. You access functions with the module prefix.\n",
        "  - Example - import math\n",
        "          print(math.sqrt(16))  # Access via module name\n",
        "\n",
        " - from ... import :- Brings in specific functions or classes. No need for the module prefix.\n",
        "  - Example -\n",
        "       from math import sqrt\n",
        "           print(sqrt(16))  # Direct access\n"
      ],
      "metadata": {
        "id": "uiKhwZF-17px"
      }
    },
    {
      "cell_type": "markdown",
      "source": [
        "7. How can you handle multiple exceptions in Python?\n",
        "  - You can handle multiple exceptions by:\n",
        "\n",
        "    - try:\n",
        "      #risky code\n",
        "    - except (ValueError, ZeroDivisionError) as e:\n",
        "    - print(f\"An error occurred: {e}\")\n"
      ],
      "metadata": {
        "id": "fo-P670O17mo"
      }
    },
    {
      "cell_type": "markdown",
      "source": [
        "8. What is the purpose of the with statement when handling files in Python?\n",
        "- The with statement automatically handles closing the file, even if an error occurs. It's safer and cleaner. You don’t have to manually write file.close() — Python does it for you.\n",
        "\n",
        "\n",
        "Example -\n",
        "      with open(\"example.txt\", \"r\") as file:\n",
        "\n",
        "      content = file.read()\n",
        "\n",
        "    \n",
        "      #File is automatically closed here\n"
      ],
      "metadata": {
        "id": "FOrbTbtL17jU"
      }
    },
    {
      "cell_type": "markdown",
      "source": [
        "9. What is the difference between multithreading and multiprocessing?\n",
        "- Use multithreading when tasks involve waiting (e.g., network requests).\n",
        "- Use multiprocessing when tasks need raw CPU power (e.g., data crunching).\n",
        "  - Feature\t- Multithreading - Multiprocessing\n",
        "  - Execution - Multiple threads,\tMultiple processes\n",
        "  - Memory -\tMultithreading Shared,\tMultiprocessing Separate\n",
        "  - Speed\t- Multithreading Good for I/O-bound tasks,\tMultiprocessing better for CPU-bound tasks\n",
        "  - GIL - Multithreading (Global Interpreter Lock)\tAffected,\tMultiprocessing Not affected"
      ],
      "metadata": {
        "id": "7DWCUdyD17gj"
      }
    },
    {
      "cell_type": "markdown",
      "source": [
        "10. What are the advantages of using logging in a program?\n",
        "- Logging gives you better control and visibility compared to print().It's professional-grade output that helps you maintain and debug code like a pro.\n",
        "    - Logs can be saved to files\n",
        "    - Supports levels (debug, info, warning, error, critical)\n",
        "    - Helps with debugging and monitoring\n",
        "    - Can be disabled or redirected easily\n",
        "    - Works across large applications and modules\n",
        "\n",
        "        import logging\n",
        "\n",
        "        logging.basicConfig(level=logging.INFO)\n",
        "        \n",
        "        logging.info(\"Program started\")\n",
        "\n"
      ],
      "metadata": {
        "id": "4oxfKs-817Lb"
      }
    },
    {
      "cell_type": "markdown",
      "source": [
        "11. What is memory management in Python?\n",
        "- Memory management in Python refers to how the interpreter allocates, tracks, and frees memory used by your variables, objects, and data structures during a program's execution.Python does a lot of this automatically, which is one of the reasons it's beginner-friendly.\n",
        "   - 1. Automatic Memory Management - Python uses a built-in memory manager that takes care of most memory operations automatically, so you don't usually have to worry about it.\n",
        "   - 2. Garbage Collection - Python uses reference counting as its main memory management technique.If no references to an object remain, Python automatically garbage collects it.It also has a cyclic garbage collector to clean up objects involved in reference cycles.\n",
        "\n",
        "      Example:-  \n",
        "      a = [1, 2, 3]\n",
        "\n",
        "      b = a  # Both 'a' and 'b' refer to the same list\n",
        "\n",
        "      del a  # Deletes only 'a', but the list is still referenced by 'b'\n",
        "      \n",
        "      del b  # Now no references exist; memory can be freed\n",
        "\n",
        "   - 3. Private Heap Space - All Python objects and data structures are stored in a private heap.This is managed by Python and not accessible directly to the programmer.\n",
        "   - 4. Memory Pools - Python (specifically CPython) uses a system of memory pools (via pymalloc) for efficiency.It reuses memory blocks instead of constantly allocating and freeing memory from the OS.\n",
        "\n"
      ],
      "metadata": {
        "id": "Ba6TllyH-izj"
      }
    },
    {
      "cell_type": "markdown",
      "source": [
        "12. What are the basic steps involved in exception handling in Python?\n",
        "- Exception handling in Python is super important for writing clean, crash-free code.\n",
        "\n",
        "    Here are the basic steps involved:\n",
        "    - Try Block - You write code that might raise an exception inside a try block.\n",
        "    - Except Block - If an error happens in the try block, Python jumps to the matching except block to handle it.You can catch specific exceptions or a general one.\n",
        "    - Finally Block (Optional) - Code in a finally block always runs, whether there was an error or not. It's great for cleanup stuff.\n",
        "    - Else Block (Optional) - If no exception occurs, the else block runs. Think of it as the “success path.”\n",
        "    \n",
        "    \n",
        "    Full Example:-  \n",
        "\n",
        "    try:\n",
        "        num = int(input(\"Enter a number: \"))\n",
        "        result = 10 / num\n",
        "    except ZeroDivisionError:\n",
        "        print(\"Cannot divide by zero!\")\n",
        "    except ValueError:\n",
        "        print(\"That's not a valid number.\")\n",
        "    else:\n",
        "        print(\"Success! The result is:\", result)\n",
        "    finally:\n",
        "        print(\"Done with exception handling.\")\n"
      ],
      "metadata": {
        "id": "e-rdBiT4-iwB"
      }
    },
    {
      "cell_type": "markdown",
      "source": [
        "13. Why is memory management important in Python?\n",
        "- Performance Optimization -\n",
        "Efficient memory management ensures that Python programs run smoothly and quickly. If memory isn't handled properly, it can lead to slow performance, especially when dealing with large datasets or long-running processes.\n",
        "\n",
        "- Preventing Crashes and Memory Leaks -\n",
        "Improper memory usage can lead to memory leaks, which in turn can cause programs to crash or exhaust system resources. Python helps manage memory automatically, but understanding how it works allows us to write more stable and reliable code.\n",
        "\n",
        "- Automatic Garbage Collection -\n",
        "Python uses a combination of reference counting and cyclic garbage collection to automatically free memory that's no longer needed. This reduces the burden on the developer to manually allocate and deallocate memory, unlike in languages like C or C++.\n",
        "\n",
        "- Better Resource Handling -\n",
        "Especially when working with files, network connections, or external resources, proper memory management helps in cleaning up after use. Using constructs like with ensures that resources are properly closed and released, minimizing memory usage.\n",
        "\n",
        "Example:\n",
        "\n",
        "    #Less efficient - may forget to close the file\n",
        "    file = open('log.txt')\n",
        "    data = file.read()\n",
        "    #File left open if an error occurs\n",
        "\n",
        "    #Better approach\n",
        "    with open('log.txt') as file:\n",
        "        data = file.read()\n",
        "    #File is automatically closed after this block"
      ],
      "metadata": {
        "id": "U9-3imGc-itO"
      }
    },
    {
      "cell_type": "markdown",
      "source": [
        "14. What is the role of try and except in exception handling?\n",
        "- In Python, the try block is used to wrap code that might throw an exception. If an error occurs, Python stops executing the try block and jumps to the matching except block, where we can handle the error gracefully.\n",
        "This prevents the program from crashing and allows us to provide a custom response or fallback behavior."
      ],
      "metadata": {
        "id": "xpnew7-B-iqh"
      }
    },
    {
      "cell_type": "markdown",
      "source": [
        "15. How does Python's garbage collection system work?\n",
        "- Python primarily uses reference counting to keep track of how many references point to an object. When that count drops to zero, the object is automatically deleted.However, for more complex cases like circular references, Python uses a cyclic garbage collector (via the gc module). It periodically checks for groups of objects that refer to each other but are no longer reachable from the rest of the program — and then it cleans them up.\n",
        "\n"
      ],
      "metadata": {
        "id": "sXJuGqsheoiM"
      }
    },
    {
      "cell_type": "markdown",
      "source": [
        "16.  What is the purpose of the else block in exception handling?\n",
        "- The else block in exception handling runs only if no exception occurs in the try block.It's useful for placing code that should only run when everything in the try was successful, keeping your logic clean and readable.\n",
        "\n",
        "Example -\n",
        "\n",
        "try:\n",
        "\n",
        "    num = int(input(\"Enter a number: \"))\n",
        "\n",
        "except ValueError:\n",
        "\n",
        "    print(\"Invalid input.\")\n",
        "\n",
        "else:\n",
        "\n",
        "    print(\"You entered:\", num)\n"
      ],
      "metadata": {
        "id": "dhjPbK0cecMx"
      }
    },
    {
      "cell_type": "markdown",
      "source": [
        "17. What are the common logging levels in Python?\n",
        "- Python's built-in logging module uses different levels to indicate the severity of messages.These levels help categorize logs and control which messages appear depending on the configured level.\n",
        "\n",
        "  - Level  \tDescription\n",
        "  - DEBUG\t - Detailed info, mainly for developers\n",
        "  - INFO\t - General info about program flow\n",
        "  - WARNING\t- Something unexpected but not fatal\n",
        "  - ERROR -\tA more serious issue\n",
        "  - CRITICAL -\tA major failure (e.g., crash)\n",
        "\n"
      ],
      "metadata": {
        "id": "jNliOx0qecJy"
      }
    },
    {
      "cell_type": "markdown",
      "source": [
        "18. What is the difference between os.fork() and multiprocessing in Python?\n",
        "- s.fork() is a low-level system call that creates a new child process by duplicating the current one. It's Unix-specific and gives you more control, but it's harder to use and less portable.On the other hand, Python's multiprocessing module is a high-level API built for portability and ease of use. It works across platforms, allows process-based parallelism, and supports features like shared memory, queues, and pools."
      ],
      "metadata": {
        "id": "HcwHB_OjecGn"
      }
    },
    {
      "cell_type": "markdown",
      "source": [
        "19. What is the importance of closing a file in Python?\n",
        "- Closing a file is important because it frees up system resources and ensures that all buffered data is written to the file. If you don't close a file, you may lose data or lock the file, especially when writing.\n",
        "\n",
        "Best practice: Use the with statement to auto-close files.\n",
        "\n",
        "    with open('file.txt', 'r') as f:\n",
        "        data = f.read()\n"
      ],
      "metadata": {
        "id": "ggnnUbswecDy"
      }
    },
    {
      "cell_type": "markdown",
      "source": [
        "20. What is the difference between file.read() and file.readline() in Python?\n",
        "- Use read() when you need the whole file, and readline() when you want to process the file line by line.\n",
        "Description\n",
        " - file.read() -\tReads the entire file as one string\n",
        " - file.readline()\t- Reads the next line in the file\n",
        "\n"
      ],
      "metadata": {
        "id": "pxOkkqZqecBC"
      }
    },
    {
      "cell_type": "markdown",
      "source": [
        "21. What is the logging module in Python used for?\n",
        "- The logging module is used to record messages that describe events in a program, like errors, warnings, or debug info. It’s better than using print() because you can control log levels, write to files, and format logs easily."
      ],
      "metadata": {
        "id": "6PMAus5veb9I"
      }
    },
    {
      "cell_type": "markdown",
      "source": [
        "22. What is the os module in Python used for in file handling?\n",
        "- The os module provides functions to interact with the operating system. In file handling, it's used for operations like:\n",
        "\n",
        "      Checking if a file exists (os.path.exists())\n",
        "\n",
        "      Creating/removing directories\n",
        "\n",
        "      Getting file paths, sizes, etc.\n",
        "\n",
        "Example -\n",
        "\n",
        "import os\n",
        "\n",
        "print(os.path.exists('file.txt'))  # True or False\n"
      ],
      "metadata": {
        "id": "StTNFHPv-inT"
      }
    },
    {
      "cell_type": "markdown",
      "source": [
        "23. What are the challenges associated with memory management in Python?\n",
        "- Even though Python automates memory management, there are still challenges:\n",
        "    - Memory leaks can happen if objects stay referenced longer than needed.\n",
        "    - Circular references can delay garbage collection.\n",
        "    - Large objects like big lists or dictionaries can use too much memory if not managed properly.\n",
        "    - Developers still need to be mindful of object lifetimes and memory usage in large or long-running apps.\n"
      ],
      "metadata": {
        "id": "j08yT4Iugy8o"
      }
    },
    {
      "cell_type": "markdown",
      "source": [
        "24. How do you raise an exception manually in Python?\n",
        "- You can manually raise exceptions using the raise keyword.\n",
        "\n",
        "\n",
        "    raise ValueError(\"Invalid input provided\")\n",
        "\n",
        "  It's useful when you want to enforce rules or catch specific conditions in your code logic.\n",
        "\n",
        ""
      ],
      "metadata": {
        "id": "Rf88Qso8gy5P"
      }
    },
    {
      "cell_type": "markdown",
      "source": [
        "25. Why is it important to use multithreading in certain applications?\n",
        "- Multithreading is useful when you want to perform multiple tasks concurrently, especially for I/O-bound operations like:\n",
        "    - Reading from disk\n",
        "\n",
        "    - Handling user input\n",
        "\n",
        "    - Downloading from the internet\n",
        "\n",
        "    It can make applications more responsive, such as keeping a GUI active while a background task runs.\n",
        "\n",
        "    Note: Due to Python’s Global Interpreter Lock (GIL), multithreading is less effective for CPU-bound tasks. In those cases, multiprocessing is better."
      ],
      "metadata": {
        "id": "dJwBOolygyya"
      }
    },
    {
      "cell_type": "markdown",
      "source": [
        "# Practical Questions"
      ],
      "metadata": {
        "id": "ANeEdqTXgytk"
      }
    },
    {
      "cell_type": "code",
      "execution_count": 6,
      "metadata": {
        "id": "kxGBFtZ5z5D1"
      },
      "outputs": [],
      "source": [
        "#1- How can you open a file for writing in Python and write a string to it?\n",
        "\n",
        "# Open a file in write mode\n",
        "with open('example.txt', 'w') as file:\n",
        "    file.write(\"Hello, this is a string!\\n\")\n",
        "    file.write(\"Hello, this is a int!\")"
      ]
    },
    {
      "cell_type": "code",
      "source": [
        "#2- Write a Python program to read the contents of a file and print each line.\n",
        "\n",
        "# Open the file in read mode\n",
        "with open('example.txt', 'r') as file:\n",
        "    # Loop through each line in the file\n",
        "    for line in file:\n",
        "        print(line.strip())  # .strip() removes any extra newline characters\n"
      ],
      "metadata": {
        "colab": {
          "base_uri": "https://localhost:8080/"
        },
        "id": "vQaQ2CTwjCAy",
        "outputId": "28df0ba9-e67f-420f-d3da-52b8ab0bff29"
      },
      "execution_count": 7,
      "outputs": [
        {
          "output_type": "stream",
          "name": "stdout",
          "text": [
            "Hello, this is a string!\n",
            "Hello, this is a int!\n"
          ]
        }
      ]
    },
    {
      "cell_type": "code",
      "source": [
        "#3- How would you handle a case where the file doesn't exist while trying to open it for reading?\n",
        "\n",
        "filename = 'test.txt'\n",
        "\n",
        "try:\n",
        "    with open(filename, 'r') as file:\n",
        "        for line in file:\n",
        "            print(line.strip())\n",
        "except FileNotFoundError as e:\n",
        "    print(f\"Error: The file '{filename}' does not exist,{e}\")\n"
      ],
      "metadata": {
        "colab": {
          "base_uri": "https://localhost:8080/"
        },
        "id": "pataBLLcjB-p",
        "outputId": "a2738429-7413-4f36-b953-846e1186e989"
      },
      "execution_count": 8,
      "outputs": [
        {
          "output_type": "stream",
          "name": "stdout",
          "text": [
            "Error: The file 'test.txt' does not exist,[Errno 2] No such file or directory: 'test.txt'\n"
          ]
        }
      ]
    },
    {
      "cell_type": "code",
      "source": [
        "#4- Write a Python script that reads from one file and writes its content to another file?\n",
        "\n",
        "# File paths (you can change these)\n",
        "source_file = 'example.txt'\n",
        "destination_file = 'destination.txt'\n",
        "\n",
        "try:\n",
        "    # Open source file in read mode\n",
        "    with open(source_file, 'r') as src:\n",
        "        # Read all content\n",
        "        content = src.read()\n",
        "\n",
        "    # Open destination file in write mode\n",
        "    with open(destination_file, 'w') as dest:\n",
        "        dest.write(content)\n",
        "\n",
        "    print(f\"Content copied from '{source_file}' to '{destination_file}' successfully.\")\n",
        "\n",
        "except FileNotFoundError :\n",
        "    print(f\"Error: The source file '{source_file}' does not exist.\")\n",
        "except IOError as e:\n",
        "    print(f\"An I/O error occurred: {e}\")\n"
      ],
      "metadata": {
        "colab": {
          "base_uri": "https://localhost:8080/"
        },
        "id": "jKhCmKlFjB8T",
        "outputId": "293da5b7-5cf6-4b7e-bca3-dafb5d8fe8dd"
      },
      "execution_count": 9,
      "outputs": [
        {
          "output_type": "stream",
          "name": "stdout",
          "text": [
            "Content copied from 'example.txt' to 'destination.txt' successfully.\n"
          ]
        }
      ]
    },
    {
      "cell_type": "code",
      "source": [
        "#5- How would you catch and handle division by zero error in Python?\n",
        "\n",
        "try:\n",
        "    numerator = int(input(\"Enter numerator: \"))\n",
        "    denominator = int(input(\"Enter denominator: \"))\n",
        "    result = numerator / denominator\n",
        "    print(\"Result:\", result)\n",
        "\n",
        "except ZeroDivisionError as e:\n",
        "    print(f\"Error: You can't divide by zero!, {e}\")\n",
        "\n",
        "except ValueError as v:\n",
        "    print(f\"Error: Please enter valid numbers. {v}\")\n",
        "\n",
        "finally:\n",
        "    print(\"Division attempt finished.\")\n"
      ],
      "metadata": {
        "colab": {
          "base_uri": "https://localhost:8080/"
        },
        "id": "jal1nNlSjB5h",
        "outputId": "d4127da2-347b-4156-fbdc-6fab4509fb8d"
      },
      "execution_count": 10,
      "outputs": [
        {
          "output_type": "stream",
          "name": "stdout",
          "text": [
            "Enter numerator: 5\n",
            "Enter denominator: 1\n",
            "Result: 5.0\n",
            "Division attempt finished.\n"
          ]
        }
      ]
    },
    {
      "cell_type": "code",
      "source": [
        "#6- Write a Python program that logs an error message to a log file when a division by zero exception occurs?\n",
        "\n",
        "import logging\n",
        "\n",
        "#Configure logging\n",
        "logging.basicConfig(\n",
        "    filename='error_log.txt',       # Log file name\n",
        "    level=logging.ERROR,            # Set log level to ERROR\n",
        "    format='%(asctime)s - %(levelname)s - %(message)s'  # Log format\n",
        ")\n",
        "\n",
        "try:\n",
        "    num1 = int(input(\"Enter numerator: \"))\n",
        "    num2 = int(input(\"Enter denominator: \"))\n",
        "    result = num1 / num2\n",
        "    print(\"Result:\", result)\n",
        "\n",
        "except ZeroDivisionError as e:\n",
        "    print(\"Error: Cannot divide by zero.\")\n",
        "    logging.error(\"Division by zero attempted: %s\", e)\n",
        "\n",
        "except ValueError as e:\n",
        "    print(\"Error: Invalid input. Please enter numbers.\")\n",
        "    logging.error(\"Invalid input: %s\", e)\n"
      ],
      "metadata": {
        "colab": {
          "base_uri": "https://localhost:8080/"
        },
        "id": "L_PpUCQDjB1E",
        "outputId": "9458acf9-a3d1-422f-fd12-1864b7019ebc"
      },
      "execution_count": 11,
      "outputs": [
        {
          "output_type": "stream",
          "name": "stdout",
          "text": [
            "Enter numerator: 4\n",
            "Enter denominator: 4\n",
            "Result: 1.0\n"
          ]
        }
      ]
    },
    {
      "cell_type": "code",
      "source": [
        "#7-  How do you log information at different levels (INFO, ERROR, WARNING) in Python using the logging module?\n",
        "\n",
        "import logging\n",
        "\n",
        "# Configure the logging system\n",
        "logging.basicConfig(\n",
        "    filename='app.log',            # Log file name\n",
        "    level=logging.DEBUG,           # Minimum log level to capture\n",
        "    format='%(asctime)s - %(levelname)s - %(message)s'\n",
        ")\n",
        "\n",
        "# Log messages at different levels\n",
        "logging.debug(\"This is a DEBUG message (for detailed dev info)\")\n",
        "logging.info(\"This is an INFO message (for general events)\")\n",
        "logging.warning(\"This is a WARNING message (something might go wrong)\")\n",
        "logging.error(\"This is an ERROR message (something went wrong)\")\n",
        "logging.critical(\"This is a CRITICAL message (serious failure)\")\n"
      ],
      "metadata": {
        "colab": {
          "base_uri": "https://localhost:8080/"
        },
        "id": "EwIM3JbNjByQ",
        "outputId": "2a729492-1e96-4db2-98f1-68d267a62283"
      },
      "execution_count": 12,
      "outputs": [
        {
          "output_type": "stream",
          "name": "stderr",
          "text": [
            "WARNING:root:This is a WARNING message (something might go wrong)\n",
            "ERROR:root:This is an ERROR message (something went wrong)\n",
            "CRITICAL:root:This is a CRITICAL message (serious failure)\n"
          ]
        }
      ]
    },
    {
      "cell_type": "code",
      "source": [
        "#8- Write a program to handle a file opening error using exception handling?\n",
        "\n",
        "filename = 'data.txt'  # You can change this to any filename\n",
        "\n",
        "try:\n",
        "    with open(filename, 'r') as file:\n",
        "        content = file.read()\n",
        "        print(\"File content:\\n\", content)\n",
        "\n",
        "except FileNotFoundError:\n",
        "    print(f\"Error: The file '{filename}' was not found.\")\n",
        "\n",
        "except IOError as e:\n",
        "    print(f\"An I/O error occurred: {e}\")\n"
      ],
      "metadata": {
        "colab": {
          "base_uri": "https://localhost:8080/"
        },
        "id": "8w66V3lMjBvs",
        "outputId": "ea62078c-2c06-48b8-cb03-1b2e511126ae"
      },
      "execution_count": 13,
      "outputs": [
        {
          "output_type": "stream",
          "name": "stdout",
          "text": [
            "Error: The file 'data.txt' was not found.\n"
          ]
        }
      ]
    },
    {
      "cell_type": "code",
      "source": [
        "#9- How can you read a file line by line and store its content in a list in Python?\n",
        "\n",
        "filename = 'example.txt'\n",
        "try:\n",
        "    with open(filename, \"r\") as f:\n",
        "        f = f.readlines() # Reads all lines into a list\n",
        "\n",
        "\n",
        "    # Optionally strip newline characters\n",
        "    lines = [line.strip() for line in f]\n",
        "\n",
        "    print(\"Lines stored in list:\")\n",
        "    print(f)\n",
        "\n",
        "except FileNotFoundError :\n",
        "    print(f\"Error: The file '{filename}' was not found.\")\n"
      ],
      "metadata": {
        "colab": {
          "base_uri": "https://localhost:8080/"
        },
        "id": "fh0K9Q_RjBsw",
        "outputId": "4e3438f9-3656-4796-d141-9f3c45cac7ea"
      },
      "execution_count": 16,
      "outputs": [
        {
          "output_type": "stream",
          "name": "stdout",
          "text": [
            "Lines stored in list:\n",
            "['Hello, this is a string!\\n', 'Hello, this is a int!']\n"
          ]
        }
      ]
    },
    {
      "cell_type": "code",
      "source": [
        "#10- How can you append data to an existing file in Python?\n",
        "\n",
        "filename = 'example.txt'\n",
        "\n",
        "try:\n",
        "    with open(filename, 'a') as file:\n",
        "        file.write(\" This line will be appended.\\n\")\n",
        "    print(f\"Data appended to '{filename}' successfully.\")\n",
        "\n",
        "except IOError as e:\n",
        "    print(f\"An I/O error occurred: {e}\")\n"
      ],
      "metadata": {
        "colab": {
          "base_uri": "https://localhost:8080/"
        },
        "id": "N9ZyR7M9jBp6",
        "outputId": "c52cf1ff-80cc-45bc-8f91-b264a557ff60"
      },
      "execution_count": 27,
      "outputs": [
        {
          "output_type": "stream",
          "name": "stdout",
          "text": [
            "Data appended to 'example.txt' successfully.\n"
          ]
        }
      ]
    },
    {
      "cell_type": "code",
      "source": [
        "#11- Write a Python program that uses a try-except block to handle an error when attempting to access a dictionary key that doesn't exist?\n",
        "\n",
        "# Sample dictionary\n",
        "student_scores = {\n",
        "    \"Alice\": 85,\n",
        "    \"Bob\": 90,\n",
        "    \"Charlie\": 78\n",
        "}\n",
        "\n",
        "# Key to look for\n",
        "key = input(\"Enter the student's name: \")\n",
        "\n",
        "try:\n",
        "    # Try to access the key\n",
        "    score = student_scores[key]\n",
        "    print(f\"{key}'s score is: {score}\")\n",
        "\n",
        "except KeyError:\n",
        "    print(f\"Error: '{key}' not found in the dictionary.\")"
      ],
      "metadata": {
        "colab": {
          "base_uri": "https://localhost:8080/"
        },
        "id": "PUkiokLejBmi",
        "outputId": "4bb20567-23ef-440f-8536-f71e17faae30"
      },
      "execution_count": 29,
      "outputs": [
        {
          "output_type": "stream",
          "name": "stdout",
          "text": [
            "Enter the student's name: na\n",
            "Error: 'na' not found in the dictionary.\n"
          ]
        }
      ]
    },
    {
      "cell_type": "code",
      "source": [
        "#12- Write a program that demonstrates using multiple except blocks to handle different types of exceptions?\n",
        "\n",
        "\n",
        "try:\n",
        "    num1 = int(input(\"Enter the numerator: \"))\n",
        "    num2 = int(input(\"Enter the denominator: \"))\n",
        "    result = num1 / num2\n",
        "    print(\"Result:\", result)\n",
        "\n",
        "except (ValueError, ZeroDivisionError) as e:\n",
        "    print(f\"Error: Please enter valid integers.{e}\")\n",
        "\n",
        "except Exception as e:\n",
        "    print(f\"An unexpected error occurred: {e}\")\n",
        "\n",
        "finally:\n",
        "    print(\"Program execution completed.\")\n"
      ],
      "metadata": {
        "colab": {
          "base_uri": "https://localhost:8080/"
        },
        "id": "oRWjeWYxjBj3",
        "outputId": "3faf67d6-4d2f-4c2a-bfa1-7804ec50046a"
      },
      "execution_count": 30,
      "outputs": [
        {
          "output_type": "stream",
          "name": "stdout",
          "text": [
            "Enter the numerator: 5\n",
            "Enter the denominator: 12\n",
            "Result: 0.4166666666666667\n",
            "Program execution completed.\n"
          ]
        }
      ]
    },
    {
      "cell_type": "code",
      "source": [
        "#13- How would you check if a file exists before attempting to read it in Python?\n",
        "\n",
        "import os\n",
        "\n",
        "filename = 'example.txt'\n",
        "\n",
        "if os.path.exists(filename):\n",
        "    with open(filename, 'r') as file:\n",
        "        content = file.read()\n",
        "        print(\"File content:\\n\", content)\n",
        "else:\n",
        "    print(f\"Error: The file '{filename}' does not exist.\")\n"
      ],
      "metadata": {
        "colab": {
          "base_uri": "https://localhost:8080/"
        },
        "id": "IKGV_OIfjBgq",
        "outputId": "fdd29da4-b1ca-49d4-d521-81689fd921ef"
      },
      "execution_count": 31,
      "outputs": [
        {
          "output_type": "stream",
          "name": "stdout",
          "text": [
            "File content:\n",
            " Hello, this is a string!\n",
            "Hello, this is a int!This line will be appended.\n",
            "\n",
            " This line will be appended.\n",
            "\t This line will be appended.\n",
            "\n"
          ]
        }
      ]
    },
    {
      "cell_type": "code",
      "source": [
        "#14- Write a program that uses the logging module to log both informational and error messages?\n",
        "\n",
        "import logging\n",
        "\n",
        "# Configure the logging system\n",
        "logging.basicConfig(\n",
        "    filename='app_log.txt',           # Log file name\n",
        "    level=logging.DEBUG,              # Log level to capture INFO, ERROR, etc.\n",
        "    format='%(asctime)s - %(levelname)s - %(message)s'\n",
        ")\n",
        "\n",
        "def divide_numbers(a, b):\n",
        "    try:\n",
        "        result = a / b\n",
        "        logging.info(f\"Division successful: {a} / {b} = {result}\")\n",
        "        return result\n",
        "    except ZeroDivisionError as e:\n",
        "        logging.error(f\"Division by zero error: {e}\")\n",
        "        return None\n",
        "\n",
        "# Example usage\n",
        "num1 = 10\n",
        "num2 = 0  # Try changing to a non-zero value\n",
        "\n",
        "output = divide_numbers(num1, num2)\n",
        "\n",
        "if output is not None:\n",
        "    print(f\"Result: {output}\")\n",
        "else:\n",
        "    print(\"An error occurred. Check the log file for details.\")\n"
      ],
      "metadata": {
        "colab": {
          "base_uri": "https://localhost:8080/"
        },
        "id": "bPHoH_ssoV3B",
        "outputId": "5c7a417e-57b5-4fc4-ea88-6c21d1ba11a4"
      },
      "execution_count": 32,
      "outputs": [
        {
          "output_type": "stream",
          "name": "stderr",
          "text": [
            "ERROR:root:Division by zero error: division by zero\n"
          ]
        },
        {
          "output_type": "stream",
          "name": "stdout",
          "text": [
            "An error occurred. Check the log file for details.\n"
          ]
        }
      ]
    },
    {
      "cell_type": "code",
      "source": [
        "#15- Write a Python program that prints the content of a file and handles the case when the file is empty?\n",
        "\n",
        "filename = 'example.txt'\n",
        "\n",
        "try:\n",
        "    with open(filename, 'r') as file:\n",
        "        content = file.read()\n",
        "\n",
        "        if content:\n",
        "            print(\"File content:\\n\", content)\n",
        "        else:\n",
        "            print(f\"The file '{filename}' is empty.\")\n",
        "\n",
        "except FileNotFoundError:\n",
        "    print(f\"Error: The file '{filename}' was not found.\")\n",
        "except IOError as e:\n",
        "    print(f\"An I/O error occurred: {e}\")\n"
      ],
      "metadata": {
        "colab": {
          "base_uri": "https://localhost:8080/"
        },
        "id": "Dv7W-h6OoVzd",
        "outputId": "da8b3d48-4718-4765-b038-6710837a0dfa"
      },
      "execution_count": 33,
      "outputs": [
        {
          "output_type": "stream",
          "name": "stdout",
          "text": [
            "File content:\n",
            " Hello, this is a string!\n",
            "Hello, this is a int!This line will be appended.\n",
            "\n",
            " This line will be appended.\n",
            "\t This line will be appended.\n",
            "\n"
          ]
        }
      ]
    },
    {
      "cell_type": "code",
      "source": [
        "#16- Demonstrate how to use memory profiling to check the memory usage of a small program?\n",
        "\n",
        "! pip install memory_profiler\n",
        "from memory_profiler import profile\n",
        "\n",
        "# Example function that we will profile\n",
        "@profile\n",
        "def my_function():\n",
        "    a = [1] * (10**6)  # Create a large list of integers\n",
        "    b = [2] * (2 * 10**7)  # Create another large list\n",
        "    del b  # Delete the second list to free up memory\n",
        "    return a\n",
        "\n",
        "if __name__ == \"__main__\":\n",
        "    my_function()\n",
        "\n",
        "#How to Run the Profiling:\n",
        "\"\"\"Save the script as memory_test.py.\n",
        "To profile the program, run the following command from the command line.\n",
        "python -m memory_profiler memory_test.py\n",
        "\"\"\"\n"
      ],
      "metadata": {
        "colab": {
          "base_uri": "https://localhost:8080/"
        },
        "id": "fJZfzyxMoVvw",
        "outputId": "40010a65-6f1f-4860-f8c9-4ebaff09aaa5"
      },
      "execution_count": 37,
      "outputs": [
        {
          "output_type": "stream",
          "name": "stdout",
          "text": [
            "Requirement already satisfied: memory_profiler in /usr/local/lib/python3.11/dist-packages (0.61.0)\n",
            "Requirement already satisfied: psutil in /usr/local/lib/python3.11/dist-packages (from memory_profiler) (5.9.5)\n",
            "ERROR: Could not find file <ipython-input-37-0ff6412bd4be>\n",
            "NOTE: %mprun can only be used on functions defined in physical files, and not in the IPython environment.\n"
          ]
        }
      ]
    },
    {
      "cell_type": "code",
      "source": [
        "#17- Write a Python program to create and write a list of numbers to a file, one number per line?\n",
        "\n",
        "# List of numbers\n",
        "numbers = [1, 2, 3, 4, 5, 6, 7, 8, 9, 10]\n",
        "\n",
        "# File name where the numbers will be written\n",
        "filename = 'numbers.txt'\n",
        "\n",
        "try:\n",
        "    # Open the file in write mode\n",
        "    with open(filename, 'w') as file:\n",
        "        # Write each number to the file, one per line\n",
        "        for number in numbers:\n",
        "            file.write(f\"{number}\\n\")\n",
        "\n",
        "    print(f\"Numbers have been written to '{filename}' successfully.\")\n",
        "\n",
        "except IOError as e:\n",
        "    print(f\"An I/O error occurred: {e}\")\n"
      ],
      "metadata": {
        "colab": {
          "base_uri": "https://localhost:8080/"
        },
        "id": "PoOjMsUmoVsI",
        "outputId": "e44d1cc3-2415-4ac6-89f5-ec4ed91d0398"
      },
      "execution_count": 40,
      "outputs": [
        {
          "output_type": "stream",
          "name": "stdout",
          "text": [
            "Numbers have been written to 'numbers.txt' successfully.\n"
          ]
        }
      ]
    },
    {
      "cell_type": "code",
      "source": [
        "#18- How would you implement a basic logging setup that logs to a file with rotation after 1MB?\n",
        "\n",
        "import logging\n",
        "from logging.handlers import RotatingFileHandler\n",
        "\n",
        "# Set up the logger\n",
        "logger = logging.getLogger('my_logger')\n",
        "logger.setLevel(logging.DEBUG)  # Set the log level to DEBUG to capture all messages\n",
        "\n",
        "# Create a rotating file handler with a maximum file size of 1MB and 3 backup files\n",
        "log_handler = RotatingFileHandler('app.log', maxBytes=1 * 1024 * 1024, backupCount=3)\n",
        "\n",
        "# Create a formatter and set it for the handler\n",
        "formatter = logging.Formatter('%(asctime)s - %(levelname)s - %(message)s')\n",
        "log_handler.setFormatter(formatter)\n",
        "\n",
        "# Add the handler to the logger\n",
        "logger.addHandler(log_handler)\n",
        "\n",
        "# Sample log messages\n",
        "logger.debug(\"This is a debug message.\")\n",
        "logger.info(\"This is an info message.\")\n",
        "logger.warning(\"This is a warning message.\")\n",
        "logger.error(\"This is an error message.\")\n",
        "logger.critical(\"This is a critical message.\")\n",
        "\n",
        "# Log messages for testing log rotation\n",
        "for i in range(10):\n",
        "    logger.info(f\"Logging message number {i}\")\n"
      ],
      "metadata": {
        "colab": {
          "base_uri": "https://localhost:8080/"
        },
        "id": "YUEnAnGfoVlS",
        "outputId": "ab17052f-192a-445c-e637-95e5dc43d00d"
      },
      "execution_count": 1,
      "outputs": [
        {
          "output_type": "stream",
          "name": "stderr",
          "text": [
            "DEBUG:my_logger:This is a debug message.\n",
            "INFO:my_logger:This is an info message.\n",
            "WARNING:my_logger:This is a warning message.\n",
            "ERROR:my_logger:This is an error message.\n",
            "CRITICAL:my_logger:This is a critical message.\n",
            "INFO:my_logger:Logging message number 0\n",
            "INFO:my_logger:Logging message number 1\n",
            "INFO:my_logger:Logging message number 2\n",
            "INFO:my_logger:Logging message number 3\n",
            "INFO:my_logger:Logging message number 4\n",
            "INFO:my_logger:Logging message number 5\n",
            "INFO:my_logger:Logging message number 6\n",
            "INFO:my_logger:Logging message number 7\n",
            "INFO:my_logger:Logging message number 8\n",
            "INFO:my_logger:Logging message number 9\n"
          ]
        }
      ]
    },
    {
      "cell_type": "code",
      "source": [
        "#19- Write a program that handles both IndexError and KeyError using a try-except block?\n",
        "\n",
        "# Sample data: a list and a dictionary\n",
        "my_list = [1, 2, 3, 4, 5]\n",
        "my_dict = {\"apple\": 10, \"banana\": 20, \"orange\": 30}\n",
        "\n",
        "# Trying to access elements from the list and dictionary\n",
        "try:\n",
        "    # Accessing list element by index (may raise IndexError)\n",
        "    list_index = 10  # This will be out of range for the list\n",
        "    print(f\"Element at index {list_index}: {my_list[list_index]}\")\n",
        "\n",
        "    # Accessing dictionary element by key (may raise KeyError)\n",
        "    dict_key = \"grape\"  # This key doesn't exist in the dictionary\n",
        "    print(f\"Value for '{dict_key}': {my_dict[dict_key]}\")\n",
        "\n",
        "except IndexError:\n",
        "    print(\"Error: Index out of range in the list.\")\n",
        "\n",
        "except KeyError:\n",
        "    print(\"Error: Key not found in the dictionary.\")\n",
        "\n",
        "except Exception as e:\n",
        "    print(f\"An unexpected error occurred: {e}\")\n"
      ],
      "metadata": {
        "colab": {
          "base_uri": "https://localhost:8080/"
        },
        "id": "bddOQzjHoVhv",
        "outputId": "c1236925-ba5d-4e12-e09f-a2926757378e"
      },
      "execution_count": 2,
      "outputs": [
        {
          "output_type": "stream",
          "name": "stdout",
          "text": [
            "Error: Index out of range in the list.\n"
          ]
        }
      ]
    },
    {
      "cell_type": "code",
      "source": [
        "#20- How would you open a file and read its contents using a context manager in Python?\n",
        "\n",
        "filename = 'example.txt'\n",
        "\n",
        "# Using a context manager to open and read the file\n",
        "with open(filename, 'r') as file:\n",
        "    content = file.read()\n",
        "    print(content)\n"
      ],
      "metadata": {
        "colab": {
          "base_uri": "https://localhost:8080/"
        },
        "id": "xlMeH9Z7oVdu",
        "outputId": "6cad1bfa-c7c6-4ec8-f525-e18cf40f351c"
      },
      "execution_count": 3,
      "outputs": [
        {
          "output_type": "stream",
          "name": "stdout",
          "text": [
            "Hello, this is a string!\n",
            "Hello, this is a int!This line will be appended.\n",
            "\n",
            " This line will be appended.\n",
            "\t This line will be appended.\n",
            "\n"
          ]
        }
      ]
    },
    {
      "cell_type": "code",
      "source": [
        "#21- Write a Python program that reads a file and prints the number of occurrences of a specific word?\n",
        "\n",
        "def count_word_occurrences(filename, word):\n",
        "    try:\n",
        "        with open(filename, 'r') as file:\n",
        "            content = file.read()\n",
        "            word_count = content.lower().count(word.lower())  # Case-insensitive count\n",
        "            print(f\"The word '{word}' appears {word_count} times in the file.\")\n",
        "    except FileNotFoundError:\n",
        "        print(f\"Error: The file '{filename}' was not found.\")\n",
        "\n",
        "# Example usage\n",
        "filename = 'example.txt'\n",
        "word_to_count = 'python'  # You can change this word\n",
        "count_word_occurrences(filename, word_to_count)\n"
      ],
      "metadata": {
        "colab": {
          "base_uri": "https://localhost:8080/"
        },
        "id": "J_A6dPAYtU8w",
        "outputId": "b58d0f38-e5c7-4ebd-c568-c262d77b87f3"
      },
      "execution_count": 4,
      "outputs": [
        {
          "output_type": "stream",
          "name": "stdout",
          "text": [
            "The word 'python' appears 0 times in the file.\n"
          ]
        }
      ]
    },
    {
      "cell_type": "code",
      "source": [
        "#22- How can you check if a file is empty before attempting to read its contents?\n",
        "\n",
        "import os\n",
        "\n",
        "filename = 'example.txt'\n",
        "\n",
        "# Check if the file is empty by checking its size\n",
        "if os.path.getsize(filename) == 0:\n",
        "    print(f\"The file '{filename}' is empty.\")\n",
        "else:\n",
        "    print(f\"The file '{filename}' is not empty.\")\n"
      ],
      "metadata": {
        "colab": {
          "base_uri": "https://localhost:8080/"
        },
        "id": "rxYOH3kNtU0W",
        "outputId": "b72e025a-585b-40bc-daf1-7cfc9db427ac"
      },
      "execution_count": 5,
      "outputs": [
        {
          "output_type": "stream",
          "name": "stdout",
          "text": [
            "The file 'example.txt' is not empty.\n"
          ]
        }
      ]
    },
    {
      "cell_type": "code",
      "source": [
        "#23- Write a Python program that writes to a log file when an error occurs during file handling.\n",
        "\n",
        "import logging\n",
        "\n",
        "# Configure logging\n",
        "logging.basicConfig(filename='file_handling.log', level=logging.ERROR,\n",
        "                    format='%(asctime)s - %(levelname)s - %(message)s')\n",
        "\n",
        "def read_file(filename):\n",
        "    try:\n",
        "        with open(filename, 'r') as file:\n",
        "            content = file.read()\n",
        "            print(content)\n",
        "    except FileNotFoundError:\n",
        "        logging.error(f\"File '{filename}' not found.\")\n",
        "        print(f\"Error: The file '{filename}' was not found.\")\n",
        "    except IOError as e:\n",
        "        logging.error(f\"IOError occurred: {e}\")\n",
        "        print(f\"Error: An IO error occurred: {e}\")\n",
        "\n",
        "# Example usage\n",
        "read_file('example.txt')\n"
      ],
      "metadata": {
        "colab": {
          "base_uri": "https://localhost:8080/"
        },
        "id": "O-aJHMbqtUwj",
        "outputId": "3f76bbf2-39f0-44b3-e164-52155ea2529a"
      },
      "execution_count": 7,
      "outputs": [
        {
          "output_type": "stream",
          "name": "stdout",
          "text": [
            "Hello, this is a string!\n",
            "Hello, this is a int!This line will be appended.\n",
            "\n",
            " This line will be appended.\n",
            "\t This line will be appended.\n",
            "\n"
          ]
        }
      ]
    },
    {
      "cell_type": "code",
      "source": [],
      "metadata": {
        "id": "AZOdJPuotUs8"
      },
      "execution_count": null,
      "outputs": []
    },
    {
      "cell_type": "code",
      "source": [],
      "metadata": {
        "id": "F2NIJn1utUpL"
      },
      "execution_count": null,
      "outputs": []
    }
  ]
}